{
 "cells": [
  {
   "cell_type": "markdown",
   "metadata": {
    "collapsed": true
   },
   "source": [
    "# My Jupyter Notebook on IBM Watson Studio"
   ]
  },
  {
   "cell_type": "markdown",
   "metadata": {},
   "source": [
    "**Oluwadamilare Ajeyalemi**\n",
    "\n",
    "Data Analyst"
   ]
  },
  {
   "cell_type": "markdown",
   "metadata": {},
   "source": [
    "*I'm interested in data science because of my love for numbers and facts* "
   ]
  },
  {
   "cell_type": "markdown",
   "metadata": {},
   "source": [
    "### My code adds two numbers to give the third number"
   ]
  },
  {
   "cell_type": "code",
   "execution_count": 1,
   "metadata": {
    "scrolled": true
   },
   "outputs": [
    {
     "data": {
      "text/plain": [
       "10"
      ]
     },
     "execution_count": 1,
     "metadata": {},
     "output_type": "execute_result"
    }
   ],
   "source": [
    "a = 4\n",
    "b = 6\n",
    "\n",
    "c = a + b\n",
    "c"
   ]
  },
  {
   "cell_type": "markdown",
   "metadata": {},
   "source": [
    "1. Supervised Learning\n",
    "    * Classification\n",
    "    * Regression\n",
    "2. Unsupervised learning\n",
    "    * Clustering\n",
    "3. Semi-supervised learning\n",
    "\n",
    "\n",
    "\n",
    "|S/n  | Name        | Gender        | Profession   |\n",
    "|-----|:-----------:|:-------------:|-------------:|\n",
    "|     | Dami        | Male          |Data Analyst  |\n",
    "|     | Femi        | Female        |Data Scientist|\n",
    "|     | Temi        | Male          |Data Engineer |\n",
    "\n",
    "\n",
    "\n",
    "> I love statistics\n",
    "\n",
    "> I love football\n",
    "\n",
    "Finished\n",
    "---\n",
    "\n",
    "Overruled\n",
    "***\n",
    "Normal\n",
    "___\n",
    "\n",
    "Continental\n",
    "\n",
    "Please click here[https://www.chelseafc.com/]"
   ]
  }
 ],
 "metadata": {
  "kernelspec": {
   "display_name": "Python 3.9",
   "language": "python",
   "name": "python3"
  },
  "language_info": {
   "codemirror_mode": {
    "name": "ipython",
    "version": 3
   },
   "file_extension": ".py",
   "mimetype": "text/x-python",
   "name": "python",
   "nbconvert_exporter": "python",
   "pygments_lexer": "ipython3",
   "version": "3.9.13"
  }
 },
 "nbformat": 4,
 "nbformat_minor": 1
}
